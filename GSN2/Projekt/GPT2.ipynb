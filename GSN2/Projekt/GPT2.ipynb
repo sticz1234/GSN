{
  "nbformat": 4,
  "nbformat_minor": 0,
  "metadata": {
    "colab": {
      "name": "GPT2.ipynb",
      "provenance": [],
      "collapsed_sections": []
    },
    "kernelspec": {
      "name": "python3",
      "display_name": "Python 3"
    },
    "accelerator": "GPU"
  },
  "cells": [
    {
      "cell_type": "markdown",
      "metadata": {
        "id": "1hv1Yihlelpd"
      },
      "source": [
        "# Implementacja Gpt-2 Simple "
      ]
    },
    {
      "cell_type": "markdown",
      "metadata": {
        "id": "O-Af8uF5fNU9"
      },
      "source": [
        "Pobranie repozytorium z Githuba"
      ]
    },
    {
      "cell_type": "code",
      "metadata": {
        "colab": {
          "base_uri": "https://localhost:8080/"
        },
        "id": "emm4V_xI7_pb",
        "outputId": "d1700aca-368e-48aa-8982-00e2099110a7"
      },
      "source": [
        "!git clone https://github.com/drfinkus/gpt-2-simple"
      ],
      "execution_count": null,
      "outputs": [
        {
          "output_type": "stream",
          "text": [
            "Cloning into 'gpt-2-simple'...\n",
            "remote: Enumerating objects: 548, done.\u001b[K\n",
            "remote: Total 548 (delta 0), reused 0 (delta 0), pack-reused 548\u001b[K\n",
            "Receiving objects: 100% (548/548), 228.60 KiB | 435.00 KiB/s, done.\n",
            "Resolving deltas: 100% (290/290), done.\n"
          ],
          "name": "stdout"
        }
      ]
    },
    {
      "cell_type": "markdown",
      "metadata": {
        "id": "qePOjwe_ftX0"
      },
      "source": [
        "Import niezbędnych bibliotek"
      ]
    },
    {
      "cell_type": "code",
      "metadata": {
        "colab": {
          "base_uri": "https://localhost:8080/"
        },
        "id": "jZb2hOcu8Vkp",
        "outputId": "67a6e331-0944-479a-80fa-102364dac106"
      },
      "source": [
        "import os\n",
        "import logging\n",
        "os.environ['TF_CPP_MIN_LOG_LEVEL'] = '3'  # or any {'0', '1', '2'}\n",
        "os.chdir('gpt-2-simple')\n",
        "%tensorflow_version 1.x\n",
        "!pip install -r requirements.txt\n",
        "import gpt_2_simple.gpt_2 as gpt2\n",
        "from datetime import datetime\n",
        "from google.colab import files\n",
        "from time import time\n",
        "logging.getLogger('tensorflow').setLevel(logging.FATAL)"
      ],
      "execution_count": null,
      "outputs": [
        {
          "output_type": "stream",
          "text": [
            "Requirement already satisfied: tensorflow-gpu==1.15.2 in /usr/local/lib/python3.6/dist-packages (from -r requirements.txt (line 1)) (1.15.2)\n",
            "Requirement already satisfied: regex in /usr/local/lib/python3.6/dist-packages (from -r requirements.txt (line 2)) (2019.12.20)\n",
            "Requirement already satisfied: requests in /usr/local/lib/python3.6/dist-packages (from -r requirements.txt (line 3)) (2.23.0)\n",
            "Requirement already satisfied: tqdm in /usr/local/lib/python3.6/dist-packages (from -r requirements.txt (line 4)) (4.41.1)\n",
            "Requirement already satisfied: numpy in /usr/local/lib/python3.6/dist-packages (from -r requirements.txt (line 5)) (1.19.5)\n",
            "Requirement already satisfied: toposort in /usr/local/lib/python3.6/dist-packages (from -r requirements.txt (line 6)) (1.6)\n",
            "Requirement already satisfied: gast==0.2.2 in /usr/local/lib/python3.6/dist-packages (from tensorflow-gpu==1.15.2->-r requirements.txt (line 1)) (0.2.2)\n",
            "Requirement already satisfied: grpcio>=1.8.6 in /usr/local/lib/python3.6/dist-packages (from tensorflow-gpu==1.15.2->-r requirements.txt (line 1)) (1.32.0)\n",
            "Requirement already satisfied: opt-einsum>=2.3.2 in /usr/local/lib/python3.6/dist-packages (from tensorflow-gpu==1.15.2->-r requirements.txt (line 1)) (3.3.0)\n",
            "Requirement already satisfied: absl-py>=0.7.0 in /usr/local/lib/python3.6/dist-packages (from tensorflow-gpu==1.15.2->-r requirements.txt (line 1)) (0.10.0)\n",
            "Requirement already satisfied: six>=1.10.0 in /usr/local/lib/python3.6/dist-packages (from tensorflow-gpu==1.15.2->-r requirements.txt (line 1)) (1.15.0)\n",
            "Requirement already satisfied: google-pasta>=0.1.6 in /usr/local/lib/python3.6/dist-packages (from tensorflow-gpu==1.15.2->-r requirements.txt (line 1)) (0.2.0)\n",
            "Requirement already satisfied: keras-applications>=1.0.8 in /tensorflow-1.15.2/python3.6 (from tensorflow-gpu==1.15.2->-r requirements.txt (line 1)) (1.0.8)\n",
            "Requirement already satisfied: termcolor>=1.1.0 in /usr/local/lib/python3.6/dist-packages (from tensorflow-gpu==1.15.2->-r requirements.txt (line 1)) (1.1.0)\n",
            "Requirement already satisfied: tensorflow-estimator==1.15.1 in /tensorflow-1.15.2/python3.6 (from tensorflow-gpu==1.15.2->-r requirements.txt (line 1)) (1.15.1)\n",
            "Requirement already satisfied: protobuf>=3.6.1 in /usr/local/lib/python3.6/dist-packages (from tensorflow-gpu==1.15.2->-r requirements.txt (line 1)) (3.12.4)\n",
            "Requirement already satisfied: astor>=0.6.0 in /usr/local/lib/python3.6/dist-packages (from tensorflow-gpu==1.15.2->-r requirements.txt (line 1)) (0.8.1)\n",
            "Requirement already satisfied: keras-preprocessing>=1.0.5 in /usr/local/lib/python3.6/dist-packages (from tensorflow-gpu==1.15.2->-r requirements.txt (line 1)) (1.1.2)\n",
            "Requirement already satisfied: wheel>=0.26; python_version >= \"3\" in /usr/local/lib/python3.6/dist-packages (from tensorflow-gpu==1.15.2->-r requirements.txt (line 1)) (0.36.2)\n",
            "Requirement already satisfied: tensorboard<1.16.0,>=1.15.0 in /tensorflow-1.15.2/python3.6 (from tensorflow-gpu==1.15.2->-r requirements.txt (line 1)) (1.15.0)\n",
            "Requirement already satisfied: wrapt>=1.11.1 in /usr/local/lib/python3.6/dist-packages (from tensorflow-gpu==1.15.2->-r requirements.txt (line 1)) (1.12.1)\n",
            "Requirement already satisfied: chardet<4,>=3.0.2 in /usr/local/lib/python3.6/dist-packages (from requests->-r requirements.txt (line 3)) (3.0.4)\n",
            "Requirement already satisfied: idna<3,>=2.5 in /usr/local/lib/python3.6/dist-packages (from requests->-r requirements.txt (line 3)) (2.10)\n",
            "Requirement already satisfied: urllib3!=1.25.0,!=1.25.1,<1.26,>=1.21.1 in /usr/local/lib/python3.6/dist-packages (from requests->-r requirements.txt (line 3)) (1.24.3)\n",
            "Requirement already satisfied: certifi>=2017.4.17 in /usr/local/lib/python3.6/dist-packages (from requests->-r requirements.txt (line 3)) (2020.12.5)\n",
            "Requirement already satisfied: h5py in /usr/local/lib/python3.6/dist-packages (from keras-applications>=1.0.8->tensorflow-gpu==1.15.2->-r requirements.txt (line 1)) (2.10.0)\n",
            "Requirement already satisfied: setuptools in /usr/local/lib/python3.6/dist-packages (from protobuf>=3.6.1->tensorflow-gpu==1.15.2->-r requirements.txt (line 1)) (51.3.3)\n",
            "Requirement already satisfied: werkzeug>=0.11.15 in /usr/local/lib/python3.6/dist-packages (from tensorboard<1.16.0,>=1.15.0->tensorflow-gpu==1.15.2->-r requirements.txt (line 1)) (1.0.1)\n",
            "Requirement already satisfied: markdown>=2.6.8 in /usr/local/lib/python3.6/dist-packages (from tensorboard<1.16.0,>=1.15.0->tensorflow-gpu==1.15.2->-r requirements.txt (line 1)) (3.3.3)\n",
            "Requirement already satisfied: importlib-metadata; python_version < \"3.8\" in /usr/local/lib/python3.6/dist-packages (from markdown>=2.6.8->tensorboard<1.16.0,>=1.15.0->tensorflow-gpu==1.15.2->-r requirements.txt (line 1)) (3.4.0)\n",
            "Requirement already satisfied: zipp>=0.5 in /usr/local/lib/python3.6/dist-packages (from importlib-metadata; python_version < \"3.8\"->markdown>=2.6.8->tensorboard<1.16.0,>=1.15.0->tensorflow-gpu==1.15.2->-r requirements.txt (line 1)) (3.4.0)\n",
            "Requirement already satisfied: typing-extensions>=3.6.4; python_version < \"3.8\" in /usr/local/lib/python3.6/dist-packages (from importlib-metadata; python_version < \"3.8\"->markdown>=2.6.8->tensorboard<1.16.0,>=1.15.0->tensorflow-gpu==1.15.2->-r requirements.txt (line 1)) (3.7.4.3)\n"
          ],
          "name": "stdout"
        }
      ]
    },
    {
      "cell_type": "code",
      "metadata": {
        "id": "43xdhQeC-FG7"
      },
      "source": [
        "# !nvidia-smi"
      ],
      "execution_count": null,
      "outputs": []
    },
    {
      "cell_type": "markdown",
      "metadata": {
        "id": "pXj3fxH7fxCG"
      },
      "source": [
        "Pobranie odpowiedniego wyczunego modelu"
      ]
    },
    {
      "cell_type": "code",
      "metadata": {
        "colab": {
          "base_uri": "https://localhost:8080/"
        },
        "id": "ldpYpen1-OrN",
        "outputId": "5d4c0314-4e36-4adc-a5fa-9a841bc277b5"
      },
      "source": [
        "gpt2.download_gpt2(model_name=\"1558M\")"
      ],
      "execution_count": null,
      "outputs": [
        {
          "output_type": "stream",
          "text": [
            "Fetching checkpoint: 52.4Mit [00:00, 1.57Git/s]                                                     \n",
            "Fetching encoder.json: 52.4Mit [00:00, 1.50Git/s]                                                   \n",
            "Fetching hparams.json: 52.4Mit [00:00, 2.77Git/s]                                                   \n",
            "Fetching model.ckpt.data-00000-of-00001: 1.47Git [00:19, 75.6Mit/s]\n",
            "Fetching model.ckpt.index: 52.4Mit [00:00, 2.79Git/s]                                               \n",
            "Fetching model.ckpt.meta: 52.4Mit [00:00, 1.89Git/s]                                                \n",
            "Fetching vocab.bpe: 52.4Mit [00:00, 2.27Git/s]                                                      \n"
          ],
          "name": "stderr"
        }
      ]
    },
    {
      "cell_type": "markdown",
      "metadata": {
        "id": "VqH8BEwGgTVl"
      },
      "source": [
        "Wybór datasetu jako pliku TXT\r\n"
      ]
    },
    {
      "cell_type": "code",
      "metadata": {
        "id": "qJkFy-U7-1lU"
      },
      "source": [
        "file_name = \"merged_clean.txt\""
      ],
      "execution_count": null,
      "outputs": []
    },
    {
      "cell_type": "code",
      "metadata": {
        "colab": {
          "base_uri": "https://localhost:8080/"
        },
        "id": "M_FxtJc1y-te",
        "outputId": "68d5634b-cd74-490d-f717-c37e577e8fd7"
      },
      "source": [
        "%ls"
      ],
      "execution_count": null,
      "outputs": [
        {
          "output_type": "stream",
          "text": [
            "\u001b[0m\u001b[01;34mcontent\u001b[0m/          \u001b[01;34mmodels\u001b[0m/\n",
            "\u001b[01;34mdocs\u001b[0m/             README.md\n",
            "\u001b[01;34mgpt_2_simple\u001b[0m/     requirements.txt\n",
            "LICENSE           setup.py\n",
            "MANIFEST.in       Train_GPT_2_1_5b_Text_Generating_Model_w_GPU.ipynb\n",
            "merged_clean.txt\n"
          ],
          "name": "stdout"
        }
      ]
    },
    {
      "cell_type": "code",
      "metadata": {
        "colab": {
          "base_uri": "https://localhost:8080/"
        },
        "id": "ksocQCo7yv-d",
        "outputId": "9543a98b-34d4-45f6-cbe2-65b7a9e6ecb2"
      },
      "source": [
        "!head merged_clean.txt"
      ],
      "execution_count": null,
      "outputs": [
        {
          "output_type": "stream",
          "text": [
            "\n",
            "Lovely Ilonka\n",
            "\n",
            "There was once a king's son who told his father that he wished to marry.\n",
            "\n",
            "'No, no!' said the king; 'you must not be in such a hurry. Wait till you\n",
            "have done some great deed. My father did not let me marry till I had won\n",
            "the golden sword you see me wear.'\n",
            "\n",
            "The prince was much disappointed, but he never dreamed of disobeying his\n"
          ],
          "name": "stdout"
        }
      ]
    },
    {
      "cell_type": "markdown",
      "metadata": {
        "id": "wm3BiJ6vgrKe"
      },
      "source": [
        "Użycie funkcji finetune, aby dotrenować sieć, zmienić jej słownik na bardziej związany z naszym tematem generacji bajek.  Do funckji podajemy argumenty takie jak dataset, nazwa modelu, ilość kroków, możemy podać ewentualny checkpoint, rodzaj stosowanej optymalizacji, współczynnik prędkości uczenia, oraz wskaźniki  zapisu stanu sieci oraz informację na ilu kartach będziemy wykonywać trening"
      ]
    },
    {
      "cell_type": "code",
      "metadata": {
        "colab": {
          "base_uri": "https://localhost:8080/"
        },
        "id": "rX7rQvY1_e3M",
        "outputId": "4e5158b1-86aa-4f0c-972d-21a66e3f6e7c"
      },
      "source": [
        "sess = gpt2.start_tf_sess()\n",
        "\n",
        "gpt2.finetune(sess,\n",
        "              dataset=file_name,\n",
        "              checkpoint_dir='checkpoint',\n",
        "              model_name='1558M',\n",
        "              steps=50000,\n",
        "              restore_from='fresh',\n",
        "              optimizer='adafactor',\n",
        "              learning_rate=0.0001,\n",
        "              run_name='run1',\n",
        "              print_every=10,\n",
        "              sample_every=500,\n",
        "              save_every=1000,\n",
        "              overwrite=True,\n",
        "              multi_gpu=True, #dla wiełu kart graficznych\n",
        "              )"
      ],
      "execution_count": null,
      "outputs": [
        {
          "output_type": "stream",
          "text": [
            "n_ctx:  1024\n",
            "Loading checkpoint models/355M/model.ckpt\n"
          ],
          "name": "stdout"
        },
        {
          "output_type": "stream",
          "text": [
            "\r  0%|          | 0/1 [00:00<?, ?it/s]"
          ],
          "name": "stderr"
        },
        {
          "output_type": "stream",
          "text": [
            "Loading dataset...\n"
          ],
          "name": "stdout"
        },
        {
          "output_type": "stream",
          "text": [
            "100%|██████████| 1/1 [00:17<00:00, 17.90s/it]\n"
          ],
          "name": "stderr"
        },
        {
          "output_type": "stream",
          "text": [
            "dataset has 3246411 tokens\n",
            "Training...\n"
          ],
          "name": "stdout"
        }
      ]
    },
    {
      "cell_type": "markdown",
      "metadata": {
        "id": "Gf4DoLj3jVdc"
      },
      "source": [
        "Następnie używajac funkcji generate generujemy tekst, określając  prefix (początek napodstawie którego siec rozopczyna generację), długość tekstu wygenerowanego,  temperaturę (czyli czy system ma być bardziej odtwórzczy czy twórczy), top_k odpowiada za ograniczenie zbioru słów do pewnej ilości najlepsyzch pod względem dopasowania słów."
      ]
    },
    {
      "cell_type": "code",
      "metadata": {
        "colab": {
          "base_uri": "https://localhost:8080/"
        },
        "id": "1_-ixZk3PMIy",
        "outputId": "866c54ad-7f4b-479d-b2ac-a242e6c01183"
      },
      "source": [
        "gpt2.generate(sess,\n",
        "              prefix=\"King of Glasses\",\n",
        "              length=500,\n",
        "              temperature=0.9,\n",
        "              top_p=0.9,\n",
        "              top_k = 10,\n",
        "              nsamples=4,\n",
        "              batch_size=4,\n",
        "              truncate='<|endoftext|>'\n",
        "              )"
      ],
      "execution_count": null,
      "outputs": [
        {
          "output_type": "stream",
          "text": [
            "Monster has came to library,\n",
            "\n",
            "and been sleeping in the books, so did the crow eat the cats;\n",
            "and it had a special purpose for its meal, and set it to eat\n",
            "them: it wanted to do away with them as thoroughly as it could,\n",
            "while it could. But one or two did not get off; the birds had\n",
            "resembled cat and crow, and were as cunning as cats themselves.\n",
            "\n",
            "\"Do you see that little boy?\" said the eagle. \"This bird is not a\n",
            "cat, but a crow, which is a thief, and has done us a great deal of\n",
            "harm. You can see the way it has taken the poor children.\"\n",
            "\n",
            "But the crow was very great with a great distance, and the\n",
            "nearer it got, the stronger it was; so it went up the gallery, and\n",
            "up to the walls, and sat down at the feet of the cats.\n",
            "\n",
            "\"My dear little boy,\" said the crow, \"where did you get to you\n",
            "from?\"\n",
            "\n",
            "\"From libraries,\" said the cat, \"but you know better than I\n",
            "that from places above, where books are more plentiful.\"\n",
            "\n",
            "\"Oh, but you know,\" said the crow, \"there is no place\n",
            "else but the library.\"\n",
            "\n",
            "\"And the best library in the world, you say?\" said the cat, \"and\n",
            "there is a crow at every page of it, and there is a window on the\n",
            "fourth floor.\"\n",
            "\n",
            "\"Yes,\" said the crow, \"there is a crow there, and a crow who\n",
            "knows how to look after itself, and crow-bird, and crow-child, and\n",
            "so on, until the birds are afraid of it.\"\n",
            "\n",
            "\"And is this the way you are to look after yourself, and crow-child,\n",
            "and crow-bird?\" said the cat. \"Yes, in a certain place it is.\"\n",
            "\n",
            "\"But the crow has been to the top of the tower and peeped over\n",
            "it, and has seen all about it,\" said the cat. \"And this is the\n",
            "most important place in the world, where we make laws, and where\n",
            "the best laws are made.\"\n",
            "\n",
            "\"Yes, in the best of all places,\" said the crow; \"and then you\n",
            "should know this crow, the little one, the crow-child, who always\n",
            "gets the head.\"\n",
            "\n",
            "====================\n",
            "Monster has came to library\n",
            "in her lair, the hero must have been too tired to read, but she\n",
            "could not be found here in her lair. Now she is to be caught, and\n",
            "the bogey man must have his way. First he must get her.\n",
            "\n",
            "The heroine can easily be put in her place, for she did not have\n",
            "to read. She was simply to have the villain get her. The villain was\n",
            "as fond of books as he was of women, so he read all sorts of books, and\n",
            "after he had read all sorts of books he tried to have some funny\n",
            "books. So he thought of the villains of the fairy tales, and he\n",
            "could get the girl of the books, and with the help of the bogey man\n",
            "could get her. Now it is no use being clever. The bogey man knows\n",
            "what it is to be clever, and thus he could get her; so he started with\n",
            "a great deal of trouble. The heroine is so clever that she must be\n",
            "snuffed out, or she would have been easily snuffed out.\n",
            "\n",
            "The bogey man did not go very far when he did not know what he was\n",
            "doing, but he wanted to get the heroine. He did not want to have\n",
            "her, because he thought she was so clever, but he was quite sure\n",
            "that she could not be snuffed out.\n",
            "\n",
            "He searched for a long time, but he could find nothing. He felt\n",
            "it was no use being so clever. He did not know where the bogey\n",
            "man had hidden the book of her poems, because she did not have\n",
            "that book. He could not, therefore, have the heroine, for she would\n",
            "not have taken the book, so he had to go away and look for a book.\n",
            "He searched the book-litter, and he could not find it. And he thought\n",
            "the book of the heroine had been hidden somewhere. He went to the\n",
            "bogey man, but he was too late. She was snuffed out, and he had to\n",
            "go home and tell the heroine.\n",
            "\n",
            "Now the heroine was very nervous. She did not know how to feel.\n",
            "The bogey man was not allowed to go out. No one could enter his\n",
            "room; he had to stay in there alone. He had not a penny in his\n",
            "pocket. He took some provisions out of the table and went into the\n",
            "\n",
            "====================\n",
            "Monster has came to library.\n",
            "\n",
            "\"My dear, dear, well, dear,\" said the frog, who was so young and so\n",
            "beautiful that you would have thought it were the merest hand of a\n",
            "fair lady. \"I see you are not a very beautiful frog, I must say.\"\n",
            "\n",
            "\"How charmingly you spoke, my dear,\" said the mother. \"I never\n",
            "thought of you as my child.\"\n",
            "\n",
            "\"Who knows, I may be a little frog, but that is no excuse for\n",
            "minding the tea-table, and a coffee-cup, and looking after the tea\n",
            "plate, and shushing the bright frog, and shaking the frog so that it\n",
            "is frightened, and shaking it so that it does not get frightened\n",
            "again?\"\n",
            "\n",
            "\"Oh, yes, that is just what I wanted,\" said the frog. \"But, in the\n",
            "moment, when I have become so used to you, I think I may as well\n",
            "tell you, please, and do not call me children, but rather, 'Molly.' I\n",
            "like to say my own name.\"\n",
            "\n",
            "\"And you should say 'Mrs. Molly,' you should, I think,\" said\n",
            "the mother.\n",
            "\n",
            "\"What!\" said the frog, who had never before said such a word. \"I\n",
            "don't want to be called 'Mr.' or 'Mrs.' or 'Molly,' but 'Molly.' I\n",
            "am pretty, and that is all.\"\n",
            "\n",
            "\"But if you were to call yourself 'Mr.' or 'Mrs.' or 'Molly,'\n",
            "would you call that silly? It would be quite silly,\" said the mother,\n",
            "saying that was what she liked best. \"It is one of the most\n",
            "incredibly silly things I ever heard. But you can't help it, I suppose.\"\n",
            "\n",
            "The frog looked at the mother in astonishment. She said she would\n",
            "rather not, for she knew he would say it. But she did not say it.\n",
            "\n",
            "\"Why,\" said she, \"I have just got a very beautiful friend who is very\n",
            "wicked, but who does not mind being called 'Mr.' or 'Mrs.' or 'Molly.' She\n",
            "is so elegant and so well-dressed, and wears lace that is so lacey and\n",
            "careful, that the words are quite averse to her. If she were not so\n",
            "very\n",
            "====================\n",
            "Monster has came to library,\" says the girl; \"it is a gift from the librarian, and she will pay you all the fees.\"\n",
            "\n",
            "\"What fees?\" says the robber. \"I will just pay the fee, and all will be right.\"\n",
            "He took the librarian's purse and pocket, and left her the girl's purse.\n",
            "\n",
            "\"Take it in your hands,\" said he. \"Let me out of it now.\"\n",
            "\n",
            "\"Good luck!\" cried the girl.\n",
            "\n",
            "When she went into the library, she found herself before the door of a long\n",
            "row of books. The shelves were laid out in a row, with books on one side,\n",
            "and none on the other. And there were books on the shelves and on the\n",
            "cover of which the robber said he had bought a ticket. \"And now,\" said the\n",
            "girl, \"what shall I do?\"\n",
            "\n",
            "\"Thou shalt have nothing but books,\" said the robber. \"And you shall pay\n",
            "the fees of the library.\"\n",
            "\n",
            "\"And what shall I do?\" said the girl. \"What fees?\"\n",
            "\n",
            "\"No fees, no fees,\" said the robber.\n",
            "\n",
            "\"And what shall I do?\" asked the girl.\n",
            "\n",
            "\"Thou shalt get nothing but books,\" said the robber.\n",
            "\n",
            "\"And what shall I do?\" asked the girl.\n",
            "\n",
            "\"Nothing,\" said the robber.\n",
            "\n",
            "The robber went back into the library and took out his ticket.\n",
            "\n",
            "\"I have not paid my fees,\" said the girl.\n",
            "\n",
            "\"I have taken care of them,\" said the robber.\n",
            "\n",
            "\"I think I have,\" said the girl, and she called her sister.\n",
            "\n",
            "\"There is no fee,\" said the robber. \"I am paying none.\"\n",
            "\n",
            "The robber went back again, and took out his ticket, and paid his\n",
            "fees.\n",
            "\n",
            "\"I have not paid my fees,\" said the girl.\n",
            "\n",
            "\"What fee is that?\" asked the robber.\n",
            "\n",
            "\"Nothing,\" said the robber.\n",
            "\n",
            "\"I think I have,\" said the girl, and she called her sister.\n",
            "\n",
            "\"There is no fee,\" said the robber.\n",
            "\n",
            "\"Thou shalt have nothing but books,\" said the robber.\n",
            "\n",
            "\"And what shall I do?\" said the girl.\n",
            "\n",
            "\"There is no fee,\" said the robber.\n",
            "\n",
            "\"I must have a certain\n",
            "====================\n"
          ],
          "name": "stdout"
        }
      ]
    },
    {
      "cell_type": "code",
      "metadata": {
        "colab": {
          "base_uri": "https://localhost:8080/",
          "height": 34
        },
        "id": "ElDTWCMXK6EG",
        "outputId": "9932106e-87b7-4632-df20-f6ebe428f4ad"
      },
      "source": [
        "# files.download(gen_file)"
      ],
      "execution_count": null,
      "outputs": [
        {
          "output_type": "display_data",
          "data": {
            "application/javascript": [
              "\n",
              "    async function download(id, filename, size) {\n",
              "      if (!google.colab.kernel.accessAllowed) {\n",
              "        return;\n",
              "      }\n",
              "      const div = document.createElement('div');\n",
              "      const label = document.createElement('label');\n",
              "      label.textContent = `Downloading \"${filename}\": `;\n",
              "      div.appendChild(label);\n",
              "      const progress = document.createElement('progress');\n",
              "      progress.max = size;\n",
              "      div.appendChild(progress);\n",
              "      document.body.appendChild(div);\n",
              "\n",
              "      const buffers = [];\n",
              "      let downloaded = 0;\n",
              "\n",
              "      const channel = await google.colab.kernel.comms.open(id);\n",
              "      // Send a message to notify the kernel that we're ready.\n",
              "      channel.send({})\n",
              "\n",
              "      for await (const message of channel.messages) {\n",
              "        // Send a message to notify the kernel that we're ready.\n",
              "        channel.send({})\n",
              "        if (message.buffers) {\n",
              "          for (const buffer of message.buffers) {\n",
              "            buffers.push(buffer);\n",
              "            downloaded += buffer.byteLength;\n",
              "            progress.value = downloaded;\n",
              "          }\n",
              "        }\n",
              "      }\n",
              "      const blob = new Blob(buffers, {type: 'application/binary'});\n",
              "      const a = document.createElement('a');\n",
              "      a.href = window.URL.createObjectURL(blob);\n",
              "      a.download = filename;\n",
              "      div.appendChild(a);\n",
              "      a.click();\n",
              "      div.remove();\n",
              "    }\n",
              "  "
            ],
            "text/plain": [
              "<IPython.core.display.Javascript object>"
            ]
          },
          "metadata": {
            "tags": []
          }
        },
        {
          "output_type": "display_data",
          "data": {
            "application/javascript": [
              "download(\"download_b4813b51-2bb5-4247-9d1b-7d2732da99c2\", \"model-8000.data-00000-of-00001\", 1419292672)"
            ],
            "text/plain": [
              "<IPython.core.display.Javascript object>"
            ]
          },
          "metadata": {
            "tags": []
          }
        }
      ]
    },
    {
      "cell_type": "markdown",
      "metadata": {
        "id": "pKF9SSDwm7px"
      },
      "source": [
        "Wnioski z GPT2 \r\n",
        "Implementacja sieci Gpt2-simple umożliwia wytrenowanie sieci do generacji tekstów raczej mniejszych niż te, do których ją przezaczyliśmy. Wyniki są całkiem zadowalające, natomiast są dużo słabsze w porównaniu do trenowania sieci o dużo wiekszej ilości parametrów takie jak GPT-3. "
      ]
    },
    {
      "cell_type": "markdown",
      "metadata": {
        "id": "t4ydvcuHoPW_"
      },
      "source": [
        "Poniżej zamieszczamy porównanie  wyników GPT-2 Simple z półtora miliarda  wag oraz 50'000 kroków oraz 355 milionów wag oraz 6500 kroków. "
      ]
    },
    {
      "cell_type": "markdown",
      "metadata": {
        "id": "b6R4-LIvpFx_"
      },
      "source": [
        "# Tekst 1 Półtora miliarda wag oraz 50'000 kroków:"
      ]
    },
    {
      "cell_type": "markdown",
      "metadata": {
        "id": "zK_MsOuTpF5k"
      },
      "source": [
        "\"Why did she leave us here?\" asked Grettir.\r\n",
        "\r\n",
        "\"Why did you run away, and run to me?\" asked his sisters.\r\n",
        "\r\n",
        "\"Why didn't I stay, and look after you?\" asked Grettir; and they\r\n",
        "said, \"We had a bad journey for you to go away, though you had brought\r\n",
        "us news of three sisters, the three sisters who had never known a brother\r\n",
        "or a sister.\"\r\n",
        "\r\n",
        "\"Did you only run away,\" said Grettir, though it was scarcely\r\n",
        "necessary; \"and if you only ran away, tell us at the same time how\r\n",
        "we can bring you home again.\"\r\n",
        "\r\n",
        "\r\n",
        "\"We have been to the four corners of the world, and never left the\r\n",
        "house of our grandmother's father; now, we will take him away from us.\"\r\n",
        "Said Grettir to his sisters.\r\n",
        "\r\n",
        "And when they heard what they were going to do they cried the more,\r\n",
        "and said, \"He must die if he shall not tell them the news.\"\r\n",
        "\r\n",
        "\"Yes; but you have only been to the four corners of the world,\" said Grett,\r\n",
        "\"and never let your grandfather come to you.\"\r\n",
        "\r\n",
        "\"There is one of us who can do it; we are going to the city.\"\r\n",
        "\r\n",
        "\"And he does not know the country we are in?\" said Grettir\r\n",
        "with a growl of pain.\r\n",
        "\r\n",
        "\"Yes; he is a common vagabond,\" said the two sisters, in the\r\n",
        "same voice, and they had their sisters' children with them, and, as\r\n",
        "they had the same speech, each told the other what they knew.\r\n",
        "\r\n",
        "When the one came home she was in a state of great joy to find her\r\n",
        "children well, and said to her, \"What ails you, daughter?\" And\r\n",
        "Grettir answered, \"That which I have received from the three\r\n",
        "sisters has given me one thought which drives me to the city to-day.\""
      ]
    },
    {
      "cell_type": "markdown",
      "metadata": {
        "id": "ucvORwvxoqdx"
      },
      "source": [
        "#  355 milionów wag, 6500 kroków:\r\n"
      ]
    },
    {
      "cell_type": "markdown",
      "metadata": {
        "id": "aRSx45NToql2"
      },
      "source": [
        "woman's heart\r\n",
        "from her breast; and they took her in a boat and landed her with a very\r\n",
        "fine coat and crown and all.\r\n",
        "\r\n",
        "The young queen thought she was very silly, and was very unhappy, and had\r\n",
        "to sleep on the ground. At last she became so fond of the young prince\r\n",
        "that she went to him one morning and said to him: \"Prince, I think we must\r\n",
        "make ourselves pretty for you.\"\r\n",
        "\r\n",
        "He was delighted, so he answered: \"Oh, lovely one, why don't I make myself\r\n",
        "pretty for you?\"\r\n",
        "\r\n",
        "She put her arms round his neck and kissed him and said:\r\n",
        "\r\n",
        "\"Don't fear, I'll be with you always.\"  And she was really brave, although she\r\n",
        "said so to him all the time she was inside him.\r\n",
        "\r\n",
        "When they all went home again they were very happy, for the new-found\r\n",
        "princess did not get tired and could keep her promise to be with her when\r\n",
        "she liked. And the young prince got an even bigger coat and crown and was\r\n",
        "always with her, and was always happy and content. Then she changed her\r\n",
        "form and became a handsome young man, and Prince Bocchi went to see her; he\r\n",
        "stopped at her house and was very happy, and she was married.\r\n",
        "\r\n",
        "A wedding was about to be held for all the brothers, as it was the twenty\r\n",
        "thousandth anniversary of the marriage. And when they reached the house the\r\n",
        "first thing that happened was that a boat came into the yard.\r\n",
        "And when the boat came into the yard they were so close that the young\r\n",
        "princess put her mouth on the prince's hand and made a kiss on his forehead.\r\n",
        "Then she put her arm round his neck and kissed him and gave him a great\r\n",
        "throng.\r\n",
        "\r\n",
        "Then she sat down with them, and talked very much with them about\r\n",
        "the good old times and the good old princess, and how much the whole world\r\n",
        "had improved in twenty thousand years.  Then the young princes began to\r\n",
        "sing and play, and the young girls danced and played. \"Here we are, in\r\n",
        "a great forest where there is no water and where rivers flow over the rocks\r\n",
        "and run down, and there is not even a rock left.\"  The young prince said:\r\n",
        "\r\n",
        "\"I will go in search of the water and the people are not near my house.\"\r\n",
        "\r\n",
        "And then they walked together toward their houses and it was all lovely.\r\n",
        "\r\n",
        "After a while they began to go from house to house with the young prince,\r\n",
        "talking together about the good old times.\r\n",
        "\r\n",
        "Then he said to his brothers: \"They say that if people were to live like\r\n",
        "mice in a dark corner, the sun wouldn't rise, nor do all the things\r\n",
        "that happen in life. But if we all lived like mice in a dark corner, there\r\n",
        "is a place where nobody can get into without being searched. And what would\r\n",
        "they do if they saw me, and the great old house?\"\r\n",
        "\r\n",
        "Then they all laughed together, and put their heads together, and said:\r\n",
        "\r\n",
        "\"Well, if we are to live in this house, let's all live together as mice in a\r\n",
        "dark corner, I suppose?\"\r\n",
        "\r\n",
        "\"No, let you have a separate place and take care of yourselves, and don't\r\n",
        "make yourselves so ugly that any man will go in.\"\r\n",
        "\r\n",
        "So they all gave him rooms he could walk in and eat and drink with in the\r\n",
        "darkest corner.  And it was a wonderful place, but no one went in.\r\n",
        "Then he was lonely and poor, and the people laughed at him and\r\n",
        "said, \"This place is more beautiful than any forest in the world.\"\r\n",
        "\r\n",
        "There he lived with the rich and the poor--beautiful houses for walking\r\n",
        "about, and he loved the rich and the poor.\r\n",
        "\r\n",
        "He had a great heart, and loved the rich and the poor.\r\n",
        "\r\n",
        "He was so kind to his brother sons, and to his father, and he said to\r\n",
        "them: \"Do not be too proud. Don't be lazy; do not be too selfish, but\r\n",
        "make a little of every moment to the world. Look, let me come through here.\r\n",
        "When I do this I'll be able to do something about this lonely place, and I\r\n",
        "will tell everyone at once because it is so lonely.\"\r\n",
        "\r\n",
        "Then his brothers told him to go straight ahead to the window, but he\r\n",
        "was so nervous that he did not know when he was to come or go.  And he\r\n",
        "just sat there waiting! and he got so anxious when he did not get anything\r\n",
        "he wanted.\r\n",
        "\r\n",
        "Suddenly he sat down in the very corner and took his breath, and thought:\r\n",
        "\"What might happen now I am waiting for?  There is the old woman who I want\r\n",
        "to marry, and she has a son"
      ]
    },
    {
      "cell_type": "code",
      "metadata": {
        "id": "mM8AkIlVo6Cx"
      },
      "source": [
        ""
      ],
      "execution_count": null,
      "outputs": []
    }
  ]
}